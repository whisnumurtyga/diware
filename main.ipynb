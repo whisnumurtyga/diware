{
 "cells": [
  {
   "cell_type": "code",
   "execution_count": 23,
   "metadata": {},
   "outputs": [
    {
     "ename": "AttributeError",
     "evalue": "module 'mediapipe' has no attribute 'solutions'",
     "output_type": "error",
     "traceback": [
      "\u001b[1;31m---------------------------------------------------------------------------\u001b[0m",
      "\u001b[1;31mAttributeError\u001b[0m                            Traceback (most recent call last)",
      "Cell \u001b[1;32mIn[23], line 5\u001b[0m\n\u001b[0;32m      2\u001b[0m \u001b[39mimport\u001b[39;00m \u001b[39mmediapipe\u001b[39;00m \u001b[39mas\u001b[39;00m \u001b[39mmp\u001b[39;00m\n\u001b[0;32m      4\u001b[0m \u001b[39m# Inisialisasi Face Mesh\u001b[39;00m\n\u001b[1;32m----> 5\u001b[0m mp_face_mesh \u001b[39m=\u001b[39m mp\u001b[39m.\u001b[39;49msolutions\u001b[39m.\u001b[39mface_mesh\n\u001b[0;32m      6\u001b[0m mp_drawing \u001b[39m=\u001b[39m mp\u001b[39m.\u001b[39msolutions\u001b[39m.\u001b[39mdrawing_utils\n\u001b[0;32m      8\u001b[0m drawing_styles \u001b[39m=\u001b[39m mp_drawing\u001b[39m.\u001b[39mDrawingSpec()\n",
      "\u001b[1;31mAttributeError\u001b[0m: module 'mediapipe' has no attribute 'solutions'"
     ]
    }
   ],
   "source": [
    "import cv2\n",
    "import mediapipe as mp\n",
    "\n",
    "# Inisialisasi Face Mesh\n",
    "mp_face_mesh = mp.solutions.face_mesh\n",
    "mp_drawing = mp.solutions.drawing_utils\n",
    "\n",
    "drawing_styles = mp_drawing.DrawingSpec()\n",
    "\n",
    "cap = cv2.VideoCapture(0)  # Menggunakan webcam utama (index 0)\n",
    "\n",
    "with mp_face_mesh.FaceMesh(\n",
    "    static_image_mode=False,\n",
    "    max_num_faces=1,\n",
    "    min_detection_confidence=0.5,\n",
    "    min_tracking_confidence=0.5) as face_mesh:\n",
    "\n",
    "    while cap.isOpened():\n",
    "        success, image = cap.read()\n",
    "        if not success:\n",
    "            break\n",
    "\n",
    "        # Ubah gambar menjadi RGB untuk pengolahan MediaPipe\n",
    "        image_rgb = cv2.cvtColor(image, cv2.COLOR_BGR2RGB)\n",
    "\n",
    "        # Deteksi Face Mesh\n",
    "        results = face_mesh.process(image_rgb)\n",
    "\n",
    "        # Tampilkan hasil pada gambar\n",
    "        if results.multi_face_landmarks:\n",
    "            for face_landmarks in results.multi_face_landmarks:\n",
    "                mp_drawing.draw_landmarks(\n",
    "                    image,\n",
    "                    face_landmarks,\n",
    "                    mp_face_mesh.FACE_CONNECTIONS,\n",
    "                    landmark_drawing_spec=drawing_styles,\n",
    "                    connection_drawing_spec=drawing_styles)\n",
    "\n",
    "        # Tampilkan gambar hasil\n",
    "        cv2.imshow('Face Mesh', image)\n",
    "        if cv2.waitKey(5) & 0xFF == 27:  # Tekan Esc untuk keluar\n",
    "            break\n",
    "\n",
    "cap.release()\n",
    "cv2.destroyAllWindows()"
   ]
  }
 ],
 "metadata": {
  "kernelspec": {
   "display_name": "pkm23",
   "language": "python",
   "name": "python3"
  },
  "language_info": {
   "codemirror_mode": {
    "name": "ipython",
    "version": 3
   },
   "file_extension": ".py",
   "mimetype": "text/x-python",
   "name": "python",
   "nbconvert_exporter": "python",
   "pygments_lexer": "ipython3",
   "version": "3.9.16"
  },
  "orig_nbformat": 4
 },
 "nbformat": 4,
 "nbformat_minor": 2
}
