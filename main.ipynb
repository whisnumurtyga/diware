{
 "cells": [
  {
   "cell_type": "code",
   "execution_count": 4,
   "metadata": {},
   "outputs": [],
   "source": [
    "import mediapipe as mp\n",
    "import numpy as np\n",
    "import cv2"
   ]
  },
  {
   "cell_type": "code",
   "execution_count": 5,
   "metadata": {},
   "outputs": [],
   "source": [
    "facemesh =  mp.solutions.face_mesh\n",
    "face = facemesh.FaceMesh(\n",
    "    static_image_mode=False, \n",
    "    min_tracking_confidence=0.6, \n",
    "    min_detection_confidence=0.6\n",
    "    )\n",
    "draw = mp.solutions.drawing_utils\n"
   ]
  },
  {
   "cell_type": "code",
   "execution_count": 6,
   "metadata": {},
   "outputs": [],
   "source": [
    "cap =  cv2.VideoCapture(0)\n",
    "chosen_left_eye_idxs  = [362, 385, 387, 263, 373, 380]\n",
    "chosen_right_eye_idxs = [33,  160, 158, 133, 153, 144]\n",
    "chosen_mouth_idxs = [\n",
    "    #upper right mouth\n",
    "    82, 38, 72, 37,\n",
    "    81, 41, 73, 39,\n",
    "    80, 42, 74, 40,\n",
    "    183,184, 185, 191,\n",
    "    61, 76, 62, 78,\n",
    "\n",
    "    #upper middle mouth\n",
    "    14,  13, 0, 11,\n",
    "\n",
    "    #upper left mouth\n",
    "    312, 268, 302, 267,\n",
    "    311, 271, 303, 269,\n",
    "    310, 272, 304, 270,\n",
    "    415, 407, 408, 409,\n",
    "    291, 292, 308, 306,\n",
    "    324,325, 307, 375,\n",
    "\n",
    "    #botom right mouth\n",
    "    146, 77,\n",
    "    88, 89,90, 91,\n",
    "    178, 179, 180, 181,\n",
    "    87, 86, 85, 84,\n",
    "\n",
    "    #botom middle mouth\n",
    "    12, 15, 16, 17,\n",
    "\n",
    "    #botom left mouth\n",
    "    318, 319, 320, 321,\n",
    "    402, 403, 404, 405,\n",
    "    317, 316, 315, 314\n",
    "    ]\n",
    "\n",
    "while True:\n",
    "    _, frame = cap.read()\n",
    "    frame = cv2.resize(frame,(1000,1000))\n",
    "    imgH, imgW, _ = frame.shape\n",
    "    # print(imgH, imgW)\n",
    "    rgb =  cv2.cvtColor(frame, cv2.COLOR_BGR2RGB)\n",
    "    op = face.process(rgb)\n",
    "    if op.multi_face_landmarks:\n",
    "        for pt in op.multi_face_landmarks:\n",
    "            # draw.draw_landmarks(frame, i)\n",
    "            for no,point in enumerate(pt.landmark):\n",
    "                # print(f'{no} \\n X : {int(point.x * imgW)}, {int(point.y * imgH)}')\n",
    "                \n",
    "                if no in chosen_left_eye_idxs or no in chosen_right_eye_idxs or no in chosen_mouth_idxs:\n",
    "                    cv2.circle(frame, (int(point.x * imgW), int(point.y * imgH)), 2, (0, 255, 0), -1)\n",
    "                # elif no > 200 and no < 500 :\n",
    "                #     cv2.putText(\n",
    "                #         frame, text= str(no), org=(int(point.x * imgW), int(point.y * imgH)),\n",
    "                #         fontFace= cv2.FONT_HERSHEY_SIMPLEX, fontScale=0.25, color=(0,255,0),\n",
    "                #         thickness=1, lineType=cv2.LINE_AA\n",
    "                #     )\n",
    "    cv2.imshow(\"windows\", frame)\n",
    "    if cv2.waitKey(1) == ord('q'):\n",
    "        break\n",
    "    # break\n",
    "cap.release()\n",
    "cv2.destroyAllWindows()"
   ]
  }
 ],
 "metadata": {
  "kernelspec": {
   "display_name": "pkm23",
   "language": "python",
   "name": "python3"
  },
  "language_info": {
   "codemirror_mode": {
    "name": "ipython",
    "version": 3
   },
   "file_extension": ".py",
   "mimetype": "text/x-python",
   "name": "python",
   "nbconvert_exporter": "python",
   "pygments_lexer": "ipython3",
   "version": "3.9.16"
  },
  "orig_nbformat": 4
 },
 "nbformat": 4,
 "nbformat_minor": 2
}
