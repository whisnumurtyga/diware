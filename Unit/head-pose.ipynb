{
 "cells": [
  {
   "cell_type": "code",
   "execution_count": 1,
   "metadata": {},
   "outputs": [],
   "source": [
    "''' \n",
    "    Impor Pustaka apa yang kita butuhkan\n",
    "'''\n",
    "import cv2\n",
    "import mediapipe as mp\n",
    "import numpy as np\n",
    "import time"
   ]
  },
  {
   "cell_type": "code",
   "execution_count": 2,
   "metadata": {},
   "outputs": [],
   "source": [
    "''' \n",
    "    Config Mediapipe Solution\n",
    "'''\n",
    "mp_face_mesh = mp.solutions.face_mesh\n",
    "face_mesh = mp_face_mesh.FaceMesh(min_detection_confidence = 0.5, min_tracking_confidence=0.5)\n",
    "\n",
    "mp_drawing = mp.solutions.drawing_utils\n",
    "\n",
    "drawing_spec = mp_drawing.DrawingSpec(thickness=1, circle_radius=1)"
   ]
  },
  {
   "cell_type": "code",
   "execution_count": 3,
   "metadata": {},
   "outputs": [
    {
     "name": "stdout",
     "output_type": "stream",
     "text": [
      "['FACEMESH_CONTOURS', 'FACEMESH_FACE_OVAL', 'FACEMESH_IRISES', 'FACEMESH_LEFT_EYE', 'FACEMESH_LEFT_EYEBROW', 'FACEMESH_LEFT_IRIS', 'FACEMESH_LIPS', 'FACEMESH_NOSE', 'FACEMESH_NUM_LANDMARKS', 'FACEMESH_NUM_LANDMARKS_WITH_IRISES', 'FACEMESH_RIGHT_EYE', 'FACEMESH_RIGHT_EYEBROW', 'FACEMESH_RIGHT_IRIS', 'FACEMESH_TESSELATION', 'FaceMesh', 'NamedTuple', 'SolutionBase', '_BINARYPB_FILE_PATH', '__builtins__', '__cached__', '__doc__', '__file__', '__loader__', '__name__', '__package__', '__spec__', 'association_calculator_pb2', 'constant_side_packet_calculator_pb2', 'detections_to_rects_calculator_pb2', 'gate_calculator_pb2', 'image_to_tensor_calculator_pb2', 'inference_calculator_pb2', 'landmarks_refinement_calculator_pb2', 'logic_calculator_pb2', 'non_max_suppression_calculator_pb2', 'np', 'rect_transformation_calculator_pb2', 'split_vector_calculator_pb2', 'ssd_anchors_calculator_pb2', 'tensors_to_classification_calculator_pb2', 'tensors_to_detections_calculator_pb2', 'tensors_to_landmarks_calculator_pb2', 'thresholding_calculator_pb2']\n"
     ]
    }
   ],
   "source": [
    "''' \n",
    "    Pojok Dir => Tempat untuk memeriksa metode/atribut\n",
    "'''\n",
    "print(dir(mp_face_mesh))\n",
    "# print(dir(cv2))"
   ]
  },
  {
   "cell_type": "code",
   "execution_count": 4,
   "metadata": {},
   "outputs": [],
   "source": [
    "nose_tip = [1]\n",
    "right_eye = [33]\n",
    "left_eye = [263]\n",
    "lips_upper = [61, 291]\n",
    "chin = [199]\n",
    "targetted_landmark = []\n",
    "\n",
    "targetted_landmark.extend(item for sublist in [nose_tip, right_eye, left_eye, lips_upper, chin] for item in sublist)"
   ]
  },
  {
   "cell_type": "code",
   "execution_count": 5,
   "metadata": {},
   "outputs": [
    {
     "ename": "KeyboardInterrupt",
     "evalue": "",
     "output_type": "error",
     "traceback": [
      "\u001b[1;31m---------------------------------------------------------------------------\u001b[0m",
      "\u001b[1;31mKeyboardInterrupt\u001b[0m                         Traceback (most recent call last)",
      "Cell \u001b[1;32mIn[5], line 9\u001b[0m\n\u001b[0;32m      6\u001b[0m \u001b[39m# Loop utama untuk memproses setiap frame dari kamera\u001b[39;00m\n\u001b[0;32m      7\u001b[0m \u001b[39mwhile\u001b[39;00m cap\u001b[39m.\u001b[39misOpened():\n\u001b[0;32m      8\u001b[0m     \u001b[39m# Baca frame terbaru dari kamera\u001b[39;00m\n\u001b[1;32m----> 9\u001b[0m     success, image \u001b[39m=\u001b[39m cap\u001b[39m.\u001b[39;49mread()\n\u001b[0;32m     10\u001b[0m     start \u001b[39m=\u001b[39m time\u001b[39m.\u001b[39mtime()\n\u001b[0;32m     12\u001b[0m     \u001b[39m# Balikkan gambar secara horizontal dan konversi ke RGB\u001b[39;00m\n",
      "\u001b[1;31mKeyboardInterrupt\u001b[0m: "
     ]
    }
   ],
   "source": [
    "''' \n",
    "    Baca Kamera\n",
    "'''\n",
    "cap = cv2.VideoCapture(0)\n",
    "\n",
    "# Loop utama untuk memproses setiap frame dari kamera\n",
    "while cap.isOpened():\n",
    "    # Baca frame terbaru dari kamera\n",
    "    success, image = cap.read()\n",
    "    start = time.time()\n",
    "    \n",
    "    # Balikkan gambar secara horizontal dan konversi ke RGB\n",
    "    image = cv2.cvtColor(cv2.flip(image,1), cv2.COLOR_BGR2RGB)\n",
    "    \n",
    "     # Optimalkan kinerja dengan mengubah flag writeable gambar\n",
    "    image.flags.writeable = False\n",
    "    \n",
    "    # Proses deteksi wajah dan landmark dengan MediaPipe\n",
    "    results = face_mesh.process(image)\n",
    "    \n",
    "    # Proses deteksi wajah dan landmark dengan MediaPipe\n",
    "    image.flags.writeable = True\n",
    "    \n",
    "    # Konversi gambar kembali ke format BGR\n",
    "    image = cv2.cvtColor(image, cv2.COLOR_RGB2BGR)\n",
    "    \n",
    "    # Mendapatkan dimensi gambar\n",
    "    img_h, img_w, img_c = image.shape\n",
    "    face_3d = []\n",
    "    face_2d = []\n",
    "    \n",
    "    # Cek apakah terdapat wajah yang terdeteksi\n",
    "    if results.multi_face_landmarks:\n",
    "        for face_landmarks in results.multi_face_landmarks:\n",
    "            for idx, lm in enumerate(face_landmarks.landmark):\n",
    "                if idx in targetted_landmark:\n",
    "                    if idx == 1:\n",
    "                    # Dapatkan koordinat hidung dalam 2D dan 3D\n",
    "                        nose_2d = (lm.x * img_w, lm.y * img_h)\n",
    "                        nose_3d = (lm.x * img_w, lm.y * img_h, lm.z * 3000)\n",
    "                    \n",
    "                    x, y = int(lm.x * img_w), int(lm.y * img_h)\n",
    "                    \n",
    "                    # Dapatkan koordinat 2D\n",
    "                    face_2d.append([x, y])\n",
    "                    # Dapatkan koordinat 3D\n",
    "                    face_3d.append([x, y, lm.z])\n",
    "                    \n",
    "            # Konversi koordinat menjadi array NumPy\n",
    "            face_2d = np.array(face_2d, dtype=np.float64)\n",
    "            face_3d = np.array(face_3d, dtype=np.float64)\n",
    "            \n",
    "            # Matriks kamera\n",
    "            focal_length = 1 * img_w\n",
    "            cam_matrix = np.array([\n",
    "                                    [focal_length, 0, img_h / 2],\n",
    "                                    [0, focal_length, img_w / 2],\n",
    "                                    [0, 0, 1]\n",
    "                                ])\n",
    "            dist_matrix = np.zeros((4, 1), dtype=np.float64)\n",
    "            \n",
    "            # Hitung orientasi kepala menggunakan solvePnP\n",
    "            success, rot_vec, trans_vec = cv2.solvePnP(face_3d, face_2d, cam_matrix, dist_matrix)\n",
    "            # Matriks Rotasi\n",
    "            rmat, jac = cv2.Rodrigues(rot_vec)\n",
    "            # Angle\n",
    "            angles, mtxR, mtxQ, Qx, Qy, Qz = cv2.RQDecomp3x3(rmat)\n",
    "            \n",
    "            # Mendapatkan Derajat Rotasi Y\n",
    "            x = angles[0] * 360\n",
    "            y = angles[1] * 360\n",
    "            z = angles[2] * 360\n",
    "            \n",
    "            # Melihat kemiringan kepala pengguna\n",
    "            if y < -10:\n",
    "                text = 'Looking Left'\n",
    "            elif y > 10:\n",
    "                text = 'Looking Right'\n",
    "            elif x < -7:\n",
    "                text = 'Looking Down'\n",
    "            elif x > 10:\n",
    "                text = 'Looking Up'\n",
    "            else:\n",
    "                text = 'Forward'\n",
    "                \n",
    "            # Memproyeksikan koordinat hidung ke 3d\n",
    "            nose_3d_projection, jacobian = cv2.projectPoints(nose_3d, rot_vec, trans_vec, cam_matrix, dist_matrix)\n",
    "            # Gambar Arah Pandangan\n",
    "            p1 = (int(nose_2d[0]), int(nose_2d[1]))\n",
    "            p2 = (int(nose_2d[0] + y * 10), int(nose_2d[1] - x * 10))\n",
    "            cv2.line(image, p1, p2, (255, 0, 0), 3)\n",
    "            \n",
    "            \n",
    "            # Tambahkan text pada gambar\n",
    "            cv2.putText(image, text, (20,50), cv2.FONT_HERSHEY_SIMPLEX, 2, (0, 255, 0), 2)\n",
    "            cv2.putText(image, \"x: \" + str(np.round(x,2)), (500, 50), cv2.FONT_HERSHEY_SIMPLEX, 1, (0, 255, 0), 2)\n",
    "            cv2.putText(image, \"y: \" + str(np.round(y,2)), (500, 100), cv2.FONT_HERSHEY_SIMPLEX, 1, (0, 255, 0), 2)\n",
    "            cv2.putText(image, \"z: \" + str(np.round(z,2)), (500, 150), cv2.FONT_HERSHEY_SIMPLEX, 1, (0, 255, 0), 2)\n",
    "            \n",
    "            # Hitung FPS\n",
    "            end = time.time()\n",
    "            totalTime = end - start\n",
    "            fps = 1 / totalTime\n",
    "            cv2.putText(image, f\"FPS: {int(fps)}\", (20, 450), cv2.FONT_HERSHEY_SIMPLEX, 1, (0, 255, 0), 2)\n",
    "            \n",
    "            # Gambar Landmark Wajah pada gambar\n",
    "            mp_drawing.draw_landmarks(\n",
    "                image = image,\n",
    "                landmark_list = face_landmarks,\n",
    "                connections = mp_face_mesh.FACEMESH_CONTOURS,\n",
    "                landmark_drawing_spec = drawing_spec,\n",
    "                connection_drawing_spec = drawing_spec\n",
    "            )\n",
    "            \n",
    "            cv2.imshow('Head Pose Estimation', image)\n",
    "            \n",
    "            if cv2.waitKey(1) == ord('q'):\n",
    "                break\n",
    "            \n",
    "cap.release()"
   ]
  },
  {
   "cell_type": "code",
   "execution_count": 1,
   "metadata": {},
   "outputs": [
    {
     "ename": "NameError",
     "evalue": "name 'cap' is not defined",
     "output_type": "error",
     "traceback": [
      "\u001b[1;31m---------------------------------------------------------------------------\u001b[0m",
      "\u001b[1;31mNameError\u001b[0m                                 Traceback (most recent call last)",
      "Cell \u001b[1;32mIn[1], line 1\u001b[0m\n\u001b[1;32m----> 1\u001b[0m cap\u001b[39m.\u001b[39mrelease()   \n\u001b[0;32m      2\u001b[0m cv2\u001b[39m.\u001b[39mdestroyAllWindows()\n",
      "\u001b[1;31mNameError\u001b[0m: name 'cap' is not defined"
     ]
    }
   ],
   "source": [
    "\n",
    "cap.release()   \n",
    "cv2.destroyAllWindows()"
   ]
  }
 ],
 "metadata": {
  "kernelspec": {
   "display_name": "pkm23",
   "language": "python",
   "name": "python3"
  },
  "language_info": {
   "codemirror_mode": {
    "name": "ipython",
    "version": 3
   },
   "file_extension": ".py",
   "mimetype": "text/x-python",
   "name": "python",
   "nbconvert_exporter": "python",
   "pygments_lexer": "ipython3",
   "version": "3.9.16"
  },
  "orig_nbformat": 4
 },
 "nbformat": 4,
 "nbformat_minor": 2
}
