{
 "cells": [
  {
   "cell_type": "code",
   "execution_count": 2,
   "metadata": {},
   "outputs": [],
   "source": [
    "''' \n",
    "    Impor Pustaka apa yang kita butuhkan\n",
    "'''\n",
    "import cv2\n",
    "import mediapipe as mp\n",
    "import numpy as np\n",
    "import time"
   ]
  },
  {
   "cell_type": "code",
   "execution_count": 3,
   "metadata": {},
   "outputs": [],
   "source": [
    "''' \n",
    "    Config Mediapipe Solution\n",
    "'''\n",
    "mp_face_mesh = mp.solutions.face_mesh\n",
    "face_mesh = mp_face_mesh.FaceMesh(min_detection_confidence = 0.5, min_tracking_confidence=0.5)\n",
    "\n",
    "mp_drawing = mp.solutions.drawing_utils\n",
    "\n",
    "drawing_spec = mp_drawing.DrawingSpec(thickness=1, circle_radius=1)"
   ]
  },
  {
   "cell_type": "code",
   "execution_count": 4,
   "metadata": {},
   "outputs": [
    {
     "name": "stdout",
     "output_type": "stream",
     "text": [
      "['FACEMESH_CONTOURS', 'FACEMESH_FACE_OVAL', 'FACEMESH_IRISES', 'FACEMESH_LEFT_EYE', 'FACEMESH_LEFT_EYEBROW', 'FACEMESH_LEFT_IRIS', 'FACEMESH_LIPS', 'FACEMESH_NOSE', 'FACEMESH_NUM_LANDMARKS', 'FACEMESH_NUM_LANDMARKS_WITH_IRISES', 'FACEMESH_RIGHT_EYE', 'FACEMESH_RIGHT_EYEBROW', 'FACEMESH_RIGHT_IRIS', 'FACEMESH_TESSELATION', 'FaceMesh', 'NamedTuple', 'SolutionBase', '_BINARYPB_FILE_PATH', '__builtins__', '__cached__', '__doc__', '__file__', '__loader__', '__name__', '__package__', '__spec__', 'association_calculator_pb2', 'constant_side_packet_calculator_pb2', 'detections_to_rects_calculator_pb2', 'gate_calculator_pb2', 'image_to_tensor_calculator_pb2', 'inference_calculator_pb2', 'landmarks_refinement_calculator_pb2', 'logic_calculator_pb2', 'non_max_suppression_calculator_pb2', 'np', 'rect_transformation_calculator_pb2', 'split_vector_calculator_pb2', 'ssd_anchors_calculator_pb2', 'tensors_to_classification_calculator_pb2', 'tensors_to_detections_calculator_pb2', 'tensors_to_landmarks_calculator_pb2', 'thresholding_calculator_pb2']\n"
     ]
    }
   ],
   "source": [
    "''' \n",
    "    Pojok Dir => Tempat untuk memeriksa metode/atribut\n",
    "'''\n",
    "print(dir(mp_face_mesh))\n",
    "# print(dir(cv2))"
   ]
  },
  {
   "cell_type": "code",
   "execution_count": 5,
   "metadata": {},
   "outputs": [
    {
     "ename": "KeyboardInterrupt",
     "evalue": "",
     "output_type": "error",
     "traceback": [
      "\u001b[1;31m---------------------------------------------------------------------------\u001b[0m",
      "\u001b[1;31mKeyboardInterrupt\u001b[0m                         Traceback (most recent call last)",
      "Cell \u001b[1;32mIn[5], line 132\u001b[0m\n\u001b[0;32m    122\u001b[0m             mp_drawing\u001b[39m.\u001b[39mdraw_landmarks(\n\u001b[0;32m    123\u001b[0m                 image \u001b[39m=\u001b[39m image,\n\u001b[0;32m    124\u001b[0m                 landmark_list \u001b[39m=\u001b[39m face_landmarks,\n\u001b[1;32m   (...)\u001b[0m\n\u001b[0;32m    127\u001b[0m                 connection_drawing_spec \u001b[39m=\u001b[39m drawing_spec\n\u001b[0;32m    128\u001b[0m             )\n\u001b[0;32m    130\u001b[0m             cv2\u001b[39m.\u001b[39mimshow(\u001b[39m'\u001b[39m\u001b[39mHead Pose Estimation\u001b[39m\u001b[39m'\u001b[39m, image)\n\u001b[1;32m--> 132\u001b[0m             \u001b[39mif\u001b[39;00m cv2\u001b[39m.\u001b[39;49mwaitKey(\u001b[39m1\u001b[39;49m) \u001b[39m==\u001b[39m \u001b[39mord\u001b[39m(\u001b[39m'\u001b[39m\u001b[39mq\u001b[39m\u001b[39m'\u001b[39m):\n\u001b[0;32m    133\u001b[0m                 \u001b[39mbreak\u001b[39;00m\n\u001b[0;32m    135\u001b[0m cap\u001b[39m.\u001b[39mrelease()\n",
      "\u001b[1;31mKeyboardInterrupt\u001b[0m: "
     ]
    }
   ],
   "source": [
    "''' \n",
    "    Baca Kamera\n",
    "'''\n",
    "cap = cv2.VideoCapture(0)\n",
    "\n",
    "while cap.isOpened():\n",
    "    ''' \n",
    "        Baca Setiap Frame\n",
    "    '''\n",
    "    success, image = cap.read()\n",
    "    start = time.time()\n",
    "    \n",
    "    ''' \n",
    "        - Balikkan gambar secara horizontal untuk tampilan tampilan selfie nanti\n",
    "        - Konversi warna dari BGR ke RGB\n",
    "    '''\n",
    "    image = cv2.cvtColor(cv2.flip(image,1), cv2.COLOR_BGR2RGB)\n",
    "    \n",
    "    '''\n",
    "        Agar lebih cepat\n",
    "    '''\n",
    "    image.flags.writeable = False\n",
    "    \n",
    "    ''' \n",
    "        Dapatkan Hasil\n",
    "    '''\n",
    "    results = face_mesh.process(image)\n",
    "    \n",
    "    '''\n",
    "        Agar lebih cepat\n",
    "    '''\n",
    "    image.flags.writeable = True\n",
    "    \n",
    "    ''' \n",
    "        Konversi warna RGB ke BGR\n",
    "    '''\n",
    "    image = cv2.cvtColor(image, cv2.COLOR_RGB2BGR)\n",
    "    \n",
    "    img_h, img_w, img_c = image.shape\n",
    "    face_3d = []\n",
    "    face_2d = []\n",
    "    \n",
    "    \n",
    "    if results.multi_face_landmarks:\n",
    "        for face_landmarks in results.multi_face_landmarks:\n",
    "            for idx, lm in enumerate(face_landmarks.landmark):\n",
    "                if idx == 33 or idx == 263 or idx == 1 or idx == 61 or idx == 291 or idx == 199:\n",
    "                    if idx == 1:\n",
    "                        nose_2d = (lm.x * img_w, lm.y * img_h)\n",
    "                        nose_3d = (lm.x * img_w, lm.y * img_h, lm.z * 3000)\n",
    "                        \n",
    "                    x, y = int(lm.x * img_w), int(lm.y * img_h)\n",
    "                    \n",
    "                    # Get 2D Coordinates\n",
    "                    face_2d.append([x, y])\n",
    "                    \n",
    "                    # Get 3D Coordinates\n",
    "                    face_3d.append([x, y, lm.z])\n",
    "                    \n",
    "            # Convert it to NumPy Array\n",
    "            face_2d = np.array(face_2d, dtype=np.float64)\n",
    "            \n",
    "            face_3d = np.array(face_3d, dtype=np.float64)\n",
    "            \n",
    "            # The camera matrix\n",
    "            focal_length = 1 * img_w\n",
    "            \n",
    "            cam_matrix = np.array([\n",
    "                                    [focal_length, 0, img_h / 2],\n",
    "                                    [0, focal_length, img_w / 2],\n",
    "                                    [0, 0, 1]\n",
    "                                ])\n",
    "            \n",
    "            # The Distance Matrix\n",
    "            dist_matrix = np.zeros((4, 1), dtype=np.float64)\n",
    "            \n",
    "            # Solve PnP\n",
    "            success, rot_vec, trans_vec = cv2.solvePnP(face_3d, face_2d, cam_matrix, dist_matrix)\n",
    "            \n",
    "            # Get Rotational Matrix\n",
    "            rmat, jac = cv2.Rodrigues(rot_vec)\n",
    "            \n",
    "            # Get Angles\n",
    "            angles, mtxR, mtxQ, Qx, Qy, Qz = cv2.RQDecomp3x3(rmat)\n",
    "            \n",
    "            # Get the Y rotation degree\n",
    "            x = angles[0] * 360\n",
    "            y = angles[1] * 360\n",
    "            z = angles[2] * 360\n",
    "            \n",
    "            # See where the user head tilting\n",
    "            if y < -10:\n",
    "                text = 'Looking Left'\n",
    "            elif y > 10:\n",
    "                text = 'Looking Right'\n",
    "            elif x < -7:\n",
    "                text = 'Looking Down'\n",
    "            elif x > 10:\n",
    "                text = 'Looking Up'\n",
    "            else:\n",
    "                text = 'Forward'\n",
    "                \n",
    "            # Display Nose Direction\n",
    "            nose_3d_projection, jacobian = cv2.projectPoints(nose_3d, rot_vec, trans_vec, cam_matrix, dist_matrix)\n",
    "            \n",
    "            p1 = (int(nose_2d[0]), int(nose_2d[1]))\n",
    "            p2 = (int(nose_2d[0] + y * 10), int(nose_2d[1] - x * 10))\n",
    "            \n",
    "            cv2.line(image, p1, p2, (255, 0, 0), 3)\n",
    "            \n",
    "            # Add the text on the image\n",
    "            cv2.putText(image, text, (20,50), cv2.FONT_HERSHEY_SIMPLEX, 2, (0, 255, 0), 2)\n",
    "            cv2.putText(image, \"x: \" + str(np.round(x,2)), (500, 50), cv2.FONT_HERSHEY_SIMPLEX, 1, (0, 255, 0), 2)\n",
    "            cv2.putText(image, \"y: \" + str(np.round(y,2)), (500, 100), cv2.FONT_HERSHEY_SIMPLEX, 1, (0, 255, 0), 2)\n",
    "            cv2.putText(image, \"z: \" + str(np.round(z,2)), (500, 150), cv2.FONT_HERSHEY_SIMPLEX, 1, (0, 255, 0), 2)\n",
    "            \n",
    "            end = time.time()\n",
    "            totalTime = end - start\n",
    "            fps = 1 / totalTime\n",
    "            \n",
    "            cv2.putText(image, f\"FPS: {int(fps)}\", (20, 450), cv2.FONT_HERSHEY_SIMPLEX, 1, (0, 255, 0), 2)\n",
    "            mp_drawing.draw_landmarks(\n",
    "                image = image,\n",
    "                landmark_list = face_landmarks,\n",
    "                connections = mp_face_mesh.FACEMESH_CONTOURS,\n",
    "                landmark_drawing_spec = drawing_spec,\n",
    "                connection_drawing_spec = drawing_spec\n",
    "            )\n",
    "            \n",
    "            cv2.imshow('Head Pose Estimation', image)\n",
    "            \n",
    "            if cv2.waitKey(1) == ord('q'):\n",
    "                break\n",
    "            \n",
    "cap.release()"
   ]
  },
  {
   "cell_type": "code",
   "execution_count": null,
   "metadata": {},
   "outputs": [
    {
     "ename": "NameError",
     "evalue": "name 'cap' is not defined",
     "output_type": "error",
     "traceback": [
      "\u001b[1;31m---------------------------------------------------------------------------\u001b[0m",
      "\u001b[1;31mNameError\u001b[0m                                 Traceback (most recent call last)",
      "Cell \u001b[1;32mIn[1], line 1\u001b[0m\n\u001b[1;32m----> 1\u001b[0m cap\u001b[39m.\u001b[39mrelease()   \n\u001b[0;32m      2\u001b[0m cv2\u001b[39m.\u001b[39mdestroyAllWindows()\n",
      "\u001b[1;31mNameError\u001b[0m: name 'cap' is not defined"
     ]
    }
   ],
   "source": [
    "\n",
    "cap.release()   \n",
    "cv2.destroyAllWindows()"
   ]
  }
 ],
 "metadata": {
  "kernelspec": {
   "display_name": "pkm23",
   "language": "python",
   "name": "python3"
  },
  "language_info": {
   "codemirror_mode": {
    "name": "ipython",
    "version": 3
   },
   "file_extension": ".py",
   "mimetype": "text/x-python",
   "name": "python",
   "nbconvert_exporter": "python",
   "pygments_lexer": "ipython3",
   "version": "3.9.16"
  },
  "orig_nbformat": 4
 },
 "nbformat": 4,
 "nbformat_minor": 2
}
