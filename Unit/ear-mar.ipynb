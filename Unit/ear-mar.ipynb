{
 "cells": [
  {
   "cell_type": "code",
   "execution_count": 1,
   "metadata": {},
   "outputs": [],
   "source": [
    "import mediapipe as mp\n",
    "import cv2\n",
    "from datetime import datetime"
   ]
  },
  {
   "cell_type": "code",
   "execution_count": 2,
   "metadata": {},
   "outputs": [],
   "source": [
    "chosen_left_eye_idxs  = [362, 385, 387, 263, 373, 380]\n",
    "chosen_right_eye_idxs = [33,  160, 158, 133, 153, 144]\n",
    "nose_tip = [1]\n",
    "right_eye = [33]\n",
    "left_eye = [263]\n",
    "lips_upper = [61, 291]\n",
    "chin = [199]\n",
    "chosen_mouth_idxs = [38, 76, 268, 292, 86, 316 ]"
   ]
  },
  {
   "cell_type": "code",
   "execution_count": 3,
   "metadata": {},
   "outputs": [],
   "source": [
    "facemesh =  mp.solutions.face_mesh\n",
    "face = facemesh.FaceMesh(\n",
    "    static_image_mode=False, \n",
    "    min_tracking_confidence=0.5, \n",
    "    min_detection_confidence=0.5\n",
    "    )\n",
    "draw = mp.solutions.drawing_utils"
   ]
  }
 ],
 "metadata": {
  "kernelspec": {
   "display_name": "pkm23",
   "language": "python",
   "name": "python3"
  },
  "language_info": {
   "codemirror_mode": {
    "name": "ipython",
    "version": 3
   },
   "file_extension": ".py",
   "mimetype": "text/x-python",
   "name": "python",
   "nbconvert_exporter": "python",
   "pygments_lexer": "ipython3",
   "version": "3.9.16"
  },
  "orig_nbformat": 4
 },
 "nbformat": 4,
 "nbformat_minor": 2
}
