{
 "cells": [
  {
   "cell_type": "code",
   "execution_count": 5,
   "metadata": {},
   "outputs": [
    {
     "ename": "KeyboardInterrupt",
     "evalue": "",
     "output_type": "error",
     "traceback": [
      "\u001b[1;31m---------------------------------------------------------------------------\u001b[0m",
      "\u001b[1;31mKeyboardInterrupt\u001b[0m                         Traceback (most recent call last)",
      "Cell \u001b[1;32mIn[5], line 41\u001b[0m\n\u001b[0;32m     38\u001b[0m     cv2\u001b[39m.\u001b[39mputText(frame, \u001b[39mf\u001b[39m\u001b[39m'\u001b[39m\u001b[39mtresh*z\u001b[39m\u001b[39m{\u001b[39;00mthresh\u001b[39m*\u001b[39myour_landmark\u001b[39m.\u001b[39mz\u001b[39m}\u001b[39;00m\u001b[39m'\u001b[39m, (\u001b[39m30\u001b[39m,\u001b[39m200\u001b[39m), cv2\u001b[39m.\u001b[39mFONT_HERSHEY_SIMPLEX, \u001b[39m0.75\u001b[39m, (\u001b[39m0\u001b[39m, \u001b[39m0\u001b[39m, \u001b[39m255\u001b[39m), \u001b[39m2\u001b[39m)\n\u001b[0;32m     39\u001b[0m     cv2\u001b[39m.\u001b[39mimshow(\u001b[39m\"\u001b[39m\u001b[39mFace Landmark\u001b[39m\u001b[39m\"\u001b[39m, frame)\n\u001b[1;32m---> 41\u001b[0m     \u001b[39mif\u001b[39;00m cv2\u001b[39m.\u001b[39;49mwaitKey(\u001b[39m1\u001b[39;49m) \u001b[39m&\u001b[39m \u001b[39m0xFF\u001b[39m \u001b[39m==\u001b[39m \u001b[39mord\u001b[39m(\u001b[39m'\u001b[39m\u001b[39mq\u001b[39m\u001b[39m'\u001b[39m):\n\u001b[0;32m     42\u001b[0m         \u001b[39mbreak\u001b[39;00m\n\u001b[0;32m     44\u001b[0m cap\u001b[39m.\u001b[39mrelease()\n",
      "\u001b[1;31mKeyboardInterrupt\u001b[0m: "
     ]
    }
   ],
   "source": [
    "import cv2\n",
    "import mediapipe as mp\n",
    "\n",
    "# Inisialisasi modul deteksi wajah\n",
    "mp_face_mesh = mp.solutions.face_mesh\n",
    "face_mesh = mp_face_mesh.FaceMesh(static_image_mode=False, max_num_faces=1, min_detection_confidence=0.5, min_tracking_confidence=0.5)\n",
    "\n",
    "# Inisialisasi kamera\n",
    "cap = cv2.VideoCapture(0)  # Nomor 0 menunjukkan penggunaan kamera utama\n",
    "\n",
    "while cap.isOpened():\n",
    "    ret, frame = cap.read()\n",
    "    if not ret:\n",
    "        break\n",
    "\n",
    "    height, width, _ = frame.shape\n",
    "\n",
    "    # Deteksi landmark wajah pada frame\n",
    "    results = face_mesh.process(frame)\n",
    "\n",
    "    if results.multi_face_landmarks:\n",
    "        face_landmarks = results.multi_face_landmarks[0].landmark\n",
    "\n",
    "        chosen_mouth_idxs = [38, 76, 268, 292, 86, 316 ]\n",
    "        for i in chosen_mouth_idxs:\n",
    "            your_landmark = face_landmarks[i]\n",
    "            x = int(your_landmark.x * width)\n",
    "            y = int(your_landmark.y * height)\n",
    "            \n",
    "            # Tampilkan frame dengan landmark \n",
    "            cv2.circle(frame, (x, y), 5, (0, 255, 0), -1)\n",
    "\n",
    "    thresh = 0.1\n",
    "    # Tampilkan frame\n",
    "    cv2.putText(frame, f'y:{str(your_landmark.y)}', (30,50), cv2.FONT_HERSHEY_SIMPLEX, 0.75, (0, 0, 255), 2)\n",
    "    cv2.putText(frame, f'y*z{str(your_landmark.y*your_landmark.z)}', (30,100), cv2.FONT_HERSHEY_SIMPLEX, 0.75, (0, 0, 255), 2)\n",
    "    cv2.putText(frame, f'tresh:{thresh}', (30,150), cv2.FONT_HERSHEY_SIMPLEX, 0.75, (0, 0, 255), 2)\n",
    "    cv2.putText(frame, f'tresh*z{thresh*your_landmark.z}', (30,200), cv2.FONT_HERSHEY_SIMPLEX, 0.75, (0, 0, 255), 2)\n",
    "    cv2.imshow(\"Face Landmark\", frame)\n",
    "\n",
    "    if cv2.waitKey(1) & 0xFF == ord('q'):\n",
    "        break\n",
    "\n",
    "cap.release()\n",
    "cv2.destroyAllWindows()\n"
   ]
  },
  {
   "cell_type": "code",
   "execution_count": null,
   "metadata": {},
   "outputs": [],
   "source": [
    "cap.release()\n",
    "cv2.destroyAllWindows()"
   ]
  }
 ],
 "metadata": {
  "kernelspec": {
   "display_name": "pkm23",
   "language": "python",
   "name": "python3"
  },
  "language_info": {
   "codemirror_mode": {
    "name": "ipython",
    "version": 3
   },
   "file_extension": ".py",
   "mimetype": "text/x-python",
   "name": "python",
   "nbconvert_exporter": "python",
   "pygments_lexer": "ipython3",
   "version": "3.9.16"
  },
  "orig_nbformat": 4
 },
 "nbformat": 4,
 "nbformat_minor": 2
}
