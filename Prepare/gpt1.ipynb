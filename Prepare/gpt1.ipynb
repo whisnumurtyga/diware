{
 "cells": [
  {
   "cell_type": "code",
   "execution_count": 25,
   "metadata": {},
   "outputs": [],
   "source": [
    "import cv2\n",
    "import mediapipe as mp\n",
    "\n",
    "# Membuat objek FaceMesh\n",
    "face_mesh = mp.solutions.face_mesh.FaceMesh(\n",
    "    max_num_faces=1,\n",
    "    refine_landmarks=True,\n",
    "    min_detection_confidence=0.5,\n",
    "    min_tracking_confidence=0.5)\n",
    "\n",
    "# Menginisialisasi kamera\n",
    "cap = cv2.VideoCapture(0)\n",
    "\n",
    "while cap.isOpened():\n",
    "    # Membaca frame dari kamera\n",
    "    success, image = cap.read()\n",
    "    if not success:\n",
    "        break\n",
    "\n",
    "    # Mengubah citra menjadi RGB (jika diperlukan)\n",
    "    image_rgb = cv2.cvtColor(image, cv2.COLOR_BGR2RGB)\n",
    "\n",
    "    # Memproses citra dengan FaceMesh\n",
    "    results = face_mesh.process(image_rgb)\n",
    "\n",
    "    # Mendapatkan landmark wajah\n",
    "    if results.multi_face_landmarks:\n",
    "        face_landmarks = results.multi_face_landmarks[0].landmark\n",
    "\n",
    "        # Menggambar landmark wajah pada citra\n",
    "        image_height, image_width, _ = image.shape\n",
    "        for landmark in face_landmarks:\n",
    "            x = int(landmark.x * image_width)\n",
    "            y = int(landmark.y * image_height)\n",
    "            cv2.circle(image, (x, y), 2, (0, 255, 0), -1)\n",
    "\n",
    "    # Menampilkan citra dengan overlay landmark\n",
    "    cv2.imshow(\"Face Landmarks\", image)\n",
    "    if cv2.waitKey(1) & 0xFF == ord('q'):\n",
    "        break\n",
    "\n",
    "cap.release()\n",
    "cv2.destroyAllWindows()\n"
   ]
  },
  {
   "cell_type": "code",
   "execution_count": 30,
   "metadata": {},
   "outputs": [
    {
     "ename": "error",
     "evalue": "OpenCV(4.6.0) D:\\a\\opencv-python\\opencv-python\\opencv\\modules\\imgproc\\src\\color.cpp:182: error: (-215:Assertion failed) !_src.empty() in function 'cv::cvtColor'\n",
     "output_type": "error",
     "traceback": [
      "\u001b[1;31m---------------------------------------------------------------------------\u001b[0m",
      "\u001b[1;31merror\u001b[0m                                     Traceback (most recent call last)",
      "Cell \u001b[1;32mIn[30], line 15\u001b[0m\n\u001b[0;32m     12\u001b[0m image \u001b[39m=\u001b[39m cv2\u001b[39m.\u001b[39mimread(\u001b[39m\"\u001b[39m\u001b[39mimage.jpg\u001b[39m\u001b[39m\"\u001b[39m)\n\u001b[0;32m     14\u001b[0m \u001b[39m# Mengubah citra menjadi RGB (jika diperlukan)\u001b[39;00m\n\u001b[1;32m---> 15\u001b[0m image_rgb \u001b[39m=\u001b[39m cv2\u001b[39m.\u001b[39;49mcvtColor(image, cv2\u001b[39m.\u001b[39;49mCOLOR_BGR2RGB)\n\u001b[0;32m     17\u001b[0m \u001b[39m# Memproses citra dengan FaceMesh\u001b[39;00m\n\u001b[0;32m     18\u001b[0m results \u001b[39m=\u001b[39m face_mesh\u001b[39m.\u001b[39mprocess(image_rgb)\n",
      "\u001b[1;31merror\u001b[0m: OpenCV(4.6.0) D:\\a\\opencv-python\\opencv-python\\opencv\\modules\\imgproc\\src\\color.cpp:182: error: (-215:Assertion failed) !_src.empty() in function 'cv::cvtColor'\n"
     ]
    }
   ],
   "source": [
    "import mediapipe as mp\n",
    "import cv2\n",
    "\n",
    "# Membuat objek FaceMesh\n",
    "face_mesh = mp.solutions.face_mesh.FaceMesh(\n",
    "    max_num_faces=1,\n",
    "    refine_landmarks=True,\n",
    "    min_detection_confidence=0.5,\n",
    "    min_tracking_confidence=0.5)\n",
    "\n",
    "# Membaca citra\n",
    "image = cv2.imread(\"image.jpg\")\n",
    "\n",
    "# Mengubah citra menjadi RGB (jika diperlukan)\n",
    "image_rgb = cv2.cvtColor(image, cv2.COLOR_BGR2RGB)\n",
    "\n",
    "# Memproses citra dengan FaceMesh\n",
    "results = face_mesh.process(image_rgb)\n",
    "\n",
    "# Mendapatkan landmark wajah\n",
    "if results.multi_face_landmarks:\n",
    "    face_landmarks = results.multi_face_landmarks[0].landmark\n",
    "\n",
    "    # Menggambar landmark wajah pada citra\n",
    "    image_height, image_width, _ = image.shape\n",
    "    for landmark in face_landmarks:\n",
    "        x = int(landmark.x * image_width)\n",
    "        y = int(landmark.y * image_height)\n",
    "        print(\"Koordinat titik: ({}, {})\".format(x, y))\n",
    "        cv2.circle(image, (x, y), 2, (0, 255, 0), -1)\n",
    "\n",
    "# Menampilkan citra dengan overlay landmark\n",
    "cv2.imshow(\"Face Landmarks\", image)\n",
    "cv2.waitKey(0)\n",
    "cv2.destroyAllWindows()\n",
    "\n"
   ]
  }
 ],
 "metadata": {
  "kernelspec": {
   "display_name": "pkm23",
   "language": "python",
   "name": "python3"
  },
  "language_info": {
   "codemirror_mode": {
    "name": "ipython",
    "version": 3
   },
   "file_extension": ".py",
   "mimetype": "text/x-python",
   "name": "python",
   "nbconvert_exporter": "python",
   "pygments_lexer": "ipython3",
   "version": "3.9.16"
  },
  "orig_nbformat": 4
 },
 "nbformat": 4,
 "nbformat_minor": 2
}
