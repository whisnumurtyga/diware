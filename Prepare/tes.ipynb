{
 "cells": [
  {
   "cell_type": "code",
   "execution_count": 10,
   "metadata": {},
   "outputs": [],
   "source": [
    "import mediapipe as mp\n",
    "import numpy as np\n",
    "import cv2\n",
    "import matplotlib.pyplot as plt\n",
    "import matplotlib.image as mpimg"
   ]
  },
  {
   "cell_type": "code",
   "execution_count": 11,
   "metadata": {},
   "outputs": [],
   "source": [
    "cap = cv2.VideoCapture(0)\n",
    "\n",
    "facemesh = mp.solutions.face_mesh\n",
    "face = facemesh.FaceMesh(static_image_mode=False, min_tracking_confidence=0.6, min_detection_confidence=0.6)\n",
    "draw = mp.solutions.drawing_utils\n",
    "while True:\n",
    "    _, frm = cap.read()\n",
    "    rgb = cv2.cvtColor(frm, cv2.COLOR_BGR2RGB)\n",
    "    op = face.process(rgb)\n",
    "    \n",
    "    if op.multi_face_landmarks:\n",
    "        for face_landmarks in op.multi_face_landmarks:\n",
    "            for landmark in face_landmarks.landmark:\n",
    "                x = int(landmark.x * frm.shape[1])\n",
    "                y = int(landmark.y * frm.shape[0])\n",
    "                cv2.circle(frm, (x, y), 1, (0, 255, 255), -1)\n",
    "\n",
    "    cv2.imshow(\"window\", frm)\n",
    "    \n",
    "    if cv2.waitKey(1) == 27:\n",
    "        cap.release()\n",
    "        cv2.destroyAllWindows()\n",
    "        break\n"
   ]
  }
 ],
 "metadata": {
  "kernelspec": {
   "display_name": "pkm23",
   "language": "python",
   "name": "python3"
  },
  "language_info": {
   "codemirror_mode": {
    "name": "ipython",
    "version": 3
   },
   "file_extension": ".py",
   "mimetype": "text/x-python",
   "name": "python",
   "nbconvert_exporter": "python",
   "pygments_lexer": "ipython3",
   "version": "3.9.16"
  },
  "orig_nbformat": 4
 },
 "nbformat": 4,
 "nbformat_minor": 2
}
